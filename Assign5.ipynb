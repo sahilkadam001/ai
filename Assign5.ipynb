{
 "cells": [
  {
   "cell_type": "code",
   "execution_count": null,
   "id": "6fb39b4b-2bc9-4a9c-8f17-8b51d385ccbd",
   "metadata": {},
   "outputs": [],
   "source": [
    "# 5. Implement minmax algorithm for game playing."
   ]
  },
  {
   "cell_type": "code",
   "execution_count": 1,
   "id": "f48b25ae-b2e3-4d45-a91a-a5770cb03bae",
   "metadata": {},
   "outputs": [],
   "source": [
    "import math"
   ]
  },
  {
   "cell_type": "code",
   "execution_count": 2,
   "id": "fe044620-b280-49f7-901d-d13db13f7bfd",
   "metadata": {},
   "outputs": [],
   "source": [
    "# Constants for players\n",
    "PLAYER_X = \"X\"\n",
    "PLAYER_O = \"O\"\n",
    "EMPTY = \".\""
   ]
  },
  {
   "cell_type": "code",
   "execution_count": 3,
   "id": "61a8ad32-2165-4659-9e9e-4a42b1132451",
   "metadata": {},
   "outputs": [],
   "source": [
    "def print_board(board):\n",
    "    for row in board:\n",
    "        print(\" \".join(row))\n",
    "    print()"
   ]
  },
  {
   "cell_type": "code",
   "execution_count": 4,
   "id": "b75c2b56-47b0-4c60-8978-12c286a220d1",
   "metadata": {},
   "outputs": [],
   "source": [
    "# Function to evaluate the board and return a score\n",
    "def evaluate_board(board):\n",
    "    # Check rows, columns, and diagonals for a winner\n",
    "    for i in range(3):\n",
    "        if board[i][0] == board[i][1] == board[i][2] != EMPTY:\n",
    "            return 10 if board[i][0] == PLAYER_X else -10\n",
    "        if board[0][i] == board[1][i] == board[2][i] != EMPTY:\n",
    "            return 10 if board[0][i] == PLAYER_X else -10\n",
    "\n",
    "    if board[0][0] == board[1][1] == board[2][2] != EMPTY:\n",
    "        return 10 if board[0][0] == PLAYER_X else -10\n",
    "    if board[0][2] == board[1][1] == board[2][0] != EMPTY:\n",
    "        return 10 if board[0][2] == PLAYER_X else -10\n",
    "\n",
    "    return 0  # Draw or game still ongoing"
   ]
  },
  {
   "cell_type": "code",
   "execution_count": 5,
   "id": "8378194c-5aa1-43da-853f-275eca69bded",
   "metadata": {},
   "outputs": [],
   "source": [
    "# Function to check if the game is over\n",
    "def is_game_over(board):\n",
    "    return evaluate_board(board) != 0 or all(cell != EMPTY for row in board for cell in row)\n",
    "\n",
    "# Minimax function to determine the best move\n",
    "def minimax(board, depth, is_maximizing):\n",
    "    score = evaluate_board(board)\n",
    "\n",
    "    # If the game is over, return the score\n",
    "    if score == 10 or score == -10:\n",
    "        return score\n",
    "\n",
    "    if is_game_over(board):\n",
    "        return 0  # Draw\n",
    "\n",
    "    if is_maximizing:\n",
    "        best_score = -math.inf\n",
    "        for i in range(3):\n",
    "            for j in range(3):\n",
    "                if board[i][j] == EMPTY:\n",
    "                    board[i][j] = PLAYER_X\n",
    "                    best_score = max(best_score, minimax(board, depth + 1, False))\n",
    "                    board[i][j] = EMPTY\n",
    "        return best_score\n",
    "    else:\n",
    "        best_score = math.inf\n",
    "        for i in range(3):\n",
    "            for j in range(3):\n",
    "                if board[i][j] == EMPTY:\n",
    "                    board[i][j] = PLAYER_O\n",
    "                    best_score = min(best_score, minimax(board, depth + 1, True))\n",
    "                    board[i][j] = EMPTY\n",
    "        return best_score\n"
   ]
  },
  {
   "cell_type": "code",
   "execution_count": 6,
   "id": "397ae61a-f30f-42d3-af41-bf4310d73012",
   "metadata": {},
   "outputs": [],
   "source": [
    "# Function to find the best move for the computer\n",
    "def find_best_move(board):\n",
    "    best_value = -math.inf\n",
    "    best_move = (-1, -1)\n",
    "\n",
    "    for i in range(3):\n",
    "        for j in range(3):\n",
    "            if board[i][j] == EMPTY:\n",
    "                board[i][j] = PLAYER_X\n",
    "                move_value = minimax(board, 0, False)\n",
    "                board[i][j] = EMPTY\n",
    "\n",
    "                if move_value > best_value:\n",
    "                    best_move = (i, j)\n",
    "                    best_value = move_value\n",
    "\n",
    "    return best_move\n",
    "\n"
   ]
  },
  {
   "cell_type": "code",
   "execution_count": 7,
   "id": "8439b5ec-957c-48ca-860c-735eac72880a",
   "metadata": {},
   "outputs": [
    {
     "name": "stdout",
     "output_type": "stream",
     "text": [
      "Tic-Tac-Toe: Player X (you) vs. Player O (computer)\n",
      ". . .\n",
      ". . .\n",
      ". . .\n",
      "\n"
     ]
    },
    {
     "name": "stdin",
     "output_type": "stream",
     "text": [
      "Enter your move row (0, 1, or 2):  1\n",
      "Enter your move column (0, 1, or 2):  0\n"
     ]
    },
    {
     "name": "stdout",
     "output_type": "stream",
     "text": [
      "Computer's turn...\n",
      "O . .\n",
      "X . .\n",
      ". . .\n",
      "\n"
     ]
    },
    {
     "name": "stdin",
     "output_type": "stream",
     "text": [
      "Enter your move row (0, 1, or 2):  1\n",
      "Enter your move column (0, 1, or 2):  1\n"
     ]
    },
    {
     "name": "stdout",
     "output_type": "stream",
     "text": [
      "Computer's turn...\n",
      "O O .\n",
      "X X .\n",
      ". . .\n",
      "\n"
     ]
    },
    {
     "name": "stdin",
     "output_type": "stream",
     "text": [
      "Enter your move row (0, 1, or 2):  0\n",
      "Enter your move column (0, 1, or 2):  1\n"
     ]
    },
    {
     "name": "stdout",
     "output_type": "stream",
     "text": [
      "Invalid move! Try again.\n"
     ]
    },
    {
     "name": "stdin",
     "output_type": "stream",
     "text": [
      "Enter your move row (0, 1, or 2):  0\n",
      "Enter your move column (0, 1, or 2):  2\n"
     ]
    },
    {
     "name": "stdout",
     "output_type": "stream",
     "text": [
      "Computer's turn...\n",
      "O O X\n",
      "X X O\n",
      ". . .\n",
      "\n"
     ]
    },
    {
     "name": "stdin",
     "output_type": "stream",
     "text": [
      "Enter your move row (0, 1, or 2):  2\n",
      "Enter your move column (0, 1, or 2):  0\n"
     ]
    },
    {
     "name": "stdout",
     "output_type": "stream",
     "text": [
      "O O X\n",
      "X X O\n",
      "X . .\n",
      "\n",
      "You win!\n"
     ]
    }
   ],
   "source": [
    "# Main game loop\n",
    "def play_game():\n",
    "\n",
    "    board = [[EMPTY for _ in range(3)] for _ in range(3)]\n",
    "    print(\"Tic-Tac-Toe: Player X (you) vs. Player O (computer)\")\n",
    "    print_board(board)\n",
    "\n",
    "    while True:\n",
    "        # Player X (Human)\n",
    "        row = int(input(\"Enter your move row (0, 1, or 2): \"))\n",
    "        col = int(input(\"Enter your move column (0, 1, or 2): \"))\n",
    "\n",
    "        if row not in (0, 1, 2) or col not in (0, 1, 2):\n",
    "            print(\"Invalid input! Please enter 0, 1, or 2 for both row and column.\")\n",
    "            continue\n",
    "\n",
    "        if board[row][col] != EMPTY:\n",
    "            print(\"Invalid move! Try again.\")\n",
    "            continue\n",
    "\n",
    "        board[row][col] = PLAYER_X\n",
    "\n",
    "        if is_game_over(board):\n",
    "            print_board(board)\n",
    "            if evaluate_board(board) == 10:\n",
    "                print(\"You win!\")\n",
    "            else:\n",
    "                print(\"It's a draw!\")\n",
    "            break\n",
    "\n",
    "        # Player O (Computer)\n",
    "        print(\"Computer's turn...\")\n",
    "        best_move = find_best_move(board)\n",
    "        board[best_move[0]][best_move[1]] = PLAYER_O\n",
    "\n",
    "        print_board(board)\n",
    "        if is_game_over(board):\n",
    "            if evaluate_board(board) == -10:\n",
    "                print(\"Computer wins!\")\n",
    "            else:\n",
    "                print(\"It's a draw!\")\n",
    "            break\n",
    "\n",
    "if __name__ == \"__main__\":\n",
    "    play_game()\n"
   ]
  }
 ],
 "metadata": {
  "kernelspec": {
   "display_name": "Python 3 (ipykernel)",
   "language": "python",
   "name": "python3"
  },
  "language_info": {
   "codemirror_mode": {
    "name": "ipython",
    "version": 3
   },
   "file_extension": ".py",
   "mimetype": "text/x-python",
   "name": "python",
   "nbconvert_exporter": "python",
   "pygments_lexer": "ipython3",
   "version": "3.11.9"
  }
 },
 "nbformat": 4,
 "nbformat_minor": 5
}
