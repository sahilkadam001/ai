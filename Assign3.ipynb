{
 "cells": [
  {
   "cell_type": "code",
   "execution_count": null,
   "id": "5d250a77-19ab-47bc-aeca-35729fc06c72",
   "metadata": {},
   "outputs": [],
   "source": [
    "# Perform parsing of family tree using knowledge-base.\n",
    "\n",
    "# !apt-get install swi-prolog\n",
    "# !pip install pyswip\n",
    "# pip install -U pyswip\n"
   ]
  },
  {
   "cell_type": "code",
   "execution_count": 1,
   "id": "f9018e1d-a94b-427a-9423-530b3c4fa3b8",
   "metadata": {},
   "outputs": [],
   "source": [
    "from pyswip import Prolog"
   ]
  },
  {
   "cell_type": "code",
   "execution_count": 2,
   "id": "a13ae5d1-885f-4914-907e-7c65c87eb1e4",
   "metadata": {},
   "outputs": [],
   "source": [
    "prolog = Prolog()"
   ]
  },
  {
   "cell_type": "code",
   "execution_count": 3,
   "id": "56a4ab6a-d4f1-4c08-b3c7-415496eb47b9",
   "metadata": {},
   "outputs": [],
   "source": [
    "# Define gender facts (male and female)\n",
    "prolog.assertz(\"male(john)\")\n",
    "prolog.assertz(\"male(tom)\")\n",
    "prolog.assertz(\"male(lucas)\")\n",
    "prolog.assertz(\"female(mary)\")\n",
    "prolog.assertz(\"female(sarah)\")\n",
    "prolog.assertz(\"female(kate)\")\n",
    "prolog.assertz(\"female(lily)\")"
   ]
  },
  {
   "cell_type": "code",
   "execution_count": 4,
   "id": "851a3bdd-71cc-48db-a3ad-4c2ef1921070",
   "metadata": {},
   "outputs": [],
   "source": [
    "# Define family relationships (parent facts)\n",
    "prolog.assertz(\"parent(john, sarah)\")    # John is Sarah's parent\n",
    "prolog.assertz(\"parent(john, tom)\")      # John is Tom's parent\n",
    "prolog.assertz(\"parent(mary, sarah)\")    # Mary is Sarah's parent\n",
    "prolog.assertz(\"parent(mary, tom)\")      # Mary is Tom's parent\n",
    "prolog.assertz(\"parent(sarah, kate)\")    # Sarah is Kate's parent\n",
    "prolog.assertz(\"parent(sarah, lucas)\")   # Sarah is Lucas's parent\n",
    "prolog.assertz(\"parent(tom, lily)\")      # Tom is Lily's parent"
   ]
  },
  {
   "cell_type": "code",
   "execution_count": 5,
   "id": "a9890697-84e1-4c43-8a82-d5cace9501f6",
   "metadata": {},
   "outputs": [],
   "source": [
    "# Define rules for family relationships\n",
    "\n",
    "# Sibling rule: \n",
    "prolog.assertz(\"sibling(x,y) :- parent(z,x), parent(z,y), x \\\\= y \")\n",
    "\n",
    "# Grandparent rule :\n",
    "prolog.assertz(\"grandparent(x,y) :- parent(x,z), parent(z,y)\")\n",
    "\n",
    "# Mother rule: X is the mother of Y if X is a parent of Y and X is female\n",
    "prolog.assertz(\"mother(X, Y) :- parent(X, Y), female(X)\")\n",
    "\n",
    "# Father rule: X is the father of Y if X is a parent of Y and X is male\n",
    "prolog.assertz(\"father(X, Y) :- parent(X, Y), male(X)\")\n",
    "\n",
    "# Grandmother rule:\n",
    "prolog.assertz(\"grandmother(x,y) :- mother(x,z), parent(z,y)\")\n",
    "\n",
    "# Grandfather rule: X is the grandfather of Y if X is a male and a parent of Z, and Z is a parent of Y\n",
    "prolog.assertz(\"grandfather(X, Y) :- father(X, Z), parent(Z, Y)\")"
   ]
  },
  {
   "cell_type": "code",
   "execution_count": 6,
   "id": "fe8e6de2-d2ad-4032-8d0e-c710fa3cc323",
   "metadata": {},
   "outputs": [
    {
     "name": "stdout",
     "output_type": "stream",
     "text": [
      "Sarah's siblings:\n",
      "\n",
      "Kate's grandparents:\n",
      "\n",
      "Tom's children:\n",
      "lily\n",
      "\n",
      "Kate's mother:\n",
      "sarah\n",
      "\n",
      "Kate's father:\n"
     ]
    }
   ],
   "source": [
    "# Query 1: Find Sarah's siblings\n",
    "print(\"Sarah's siblings:\")\n",
    "Siblings = list(prolog.query(\"setof(Sibling, sibling(sarah,Sibling), SiblingList)\"))\n",
    "if Siblings:\n",
    "    for sibling in Siblings[0][\"SiblingList\"]:\n",
    "        print(sibling)\n",
    "\n",
    "print(\"\\nKate's grandparents:\")\n",
    "grandparents = list(prolog.query(\"setof(Grandparent, grandparent(Grandparent, kate), GrandparentList)\"))\n",
    "if grandparents:\n",
    "    for grandparent in grandparents[0]['GrandparentList']:\n",
    "        print(grandparent)\n",
    "# Query 3: Find Tom's children\n",
    "print(\"\\nTom's children:\")\n",
    "children = list(prolog.query(\"setof(Child, parent(tom, Child), ChildList)\"))\n",
    "if children:\n",
    "    for child in children[0]['ChildList']:\n",
    "        print(child)\n",
    "# Query 4: Find who is Kate's mother\n",
    "print(\"\\nKate's mother:\")\n",
    "for result in prolog.query(\"mother(Mother, kate)\"):\n",
    "    print(result['Mother'])\n",
    "# Query 5: Find who is Kate's father\n",
    "print(\"\\nKate's father:\")\n",
    "for result in prolog.query(\"father(Father, kate)\"):\n",
    "    print(result['Father'])"
   ]
  },
  {
   "cell_type": "code",
   "execution_count": null,
   "id": "4c0c50a4-81d9-4490-93d7-d585fc354ba4",
   "metadata": {},
   "outputs": [],
   "source": [
    "print(\"\\nKate's grandparents:\")\n",
    "Grandparents = list(prolog.query(\"setof(Grandparent, grandparent(kate, Grandparent), GrandparentList)\"))\n",
    "if Grandparents:\n",
    "    for Grandparent in Grandparents[0][\"GrandparentList\"]:\n",
    "        print(Grandparent)"
   ]
  },
  {
   "cell_type": "code",
   "execution_count": null,
   "id": "cfa8072e-112b-4b9d-a86c-919359cf72c2",
   "metadata": {},
   "outputs": [],
   "source": [
    "grandparents = list(prolog.query(\"grandparent(Grandparent, kate)\"))\n",
    "if grandparents:\n",
    "    for grandparent in grandparents:\n",
    "        print(grandparent['Grandparent'])\n",
    "else:\n",
    "    print(\"No grandparents found.\")\n"
   ]
  }
 ],
 "metadata": {
  "kernelspec": {
   "display_name": "Python 3 (ipykernel)",
   "language": "python",
   "name": "python3"
  },
  "language_info": {
   "codemirror_mode": {
    "name": "ipython",
    "version": 3
   },
   "file_extension": ".py",
   "mimetype": "text/x-python",
   "name": "python",
   "nbconvert_exporter": "python",
   "pygments_lexer": "ipython3",
   "version": "3.11.9"
  }
 },
 "nbformat": 4,
 "nbformat_minor": 5
}
