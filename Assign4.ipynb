{
 "cells": [
  {
   "cell_type": "code",
   "execution_count": null,
   "id": "913ba70f-c094-4963-9a66-099992ff9316",
   "metadata": {},
   "outputs": [],
   "source": [
    "# 4. To Implement A* Algorithm for an application."
   ]
  },
  {
   "cell_type": "code",
   "execution_count": 1,
   "id": "5f5981fb-ef8e-4461-8785-9c8d71982653",
   "metadata": {},
   "outputs": [],
   "source": [
    "import heapq"
   ]
  },
  {
   "cell_type": "code",
   "execution_count": 2,
   "id": "0a9e2d7b-5f9a-403d-96cd-b7a09c8f25c5",
   "metadata": {},
   "outputs": [],
   "source": [
    "# Define the Cell class\n",
    "class Cell:\n",
    "    def __init__(self):\n",
    "        self.parent_i = 0  # Parent row index\n",
    "        self.parent_j = 0  # Parent column index\n",
    "        self.f = float('inf')  # Total cost (f = g + h)\n",
    "        self.g = float('inf')  # Cost from start to this cell\n",
    "        self.h = 0  # Heuristic cost to the destination"
   ]
  },
  {
   "cell_type": "code",
   "execution_count": 3,
   "id": "f2a52660-c3de-4154-bd3f-df61cb220317",
   "metadata": {},
   "outputs": [],
   "source": [
    "# Define the grid size\n",
    "ROW = 9\n",
    "COL = 10"
   ]
  },
  {
   "cell_type": "code",
   "execution_count": 4,
   "id": "c98478f7-b477-459e-9bea-f31bedac6851",
   "metadata": {},
   "outputs": [],
   "source": [
    "# Check if a cell is valid (within the grid)\n",
    "def is_valid(row, col):\n",
    "    return 0 <= row < ROW and 0 <= col < COL\n",
    "\n",
    "# Check if a cell is unblocked\n",
    "def is_unblocked(grid, row, col):\n",
    "    return grid[row][col] == 1\n",
    "\n",
    "# Check if a cell is the destination\n",
    "def is_destination(row, col, dest):\n",
    "    return row == dest[0] and col == dest[1]\n",
    "\n",
    "# Calculate the heuristic value (Euclidean distance)\n",
    "def calculate_h_value(row, col, dest):\n",
    "    return ((row - dest[0]) ** 2 + (col - dest[1]) ** 2) ** 0.5"
   ]
  },
  {
   "cell_type": "code",
   "execution_count": 5,
   "id": "c56a3710-dbb6-427d-9640-8298f65cfd50",
   "metadata": {},
   "outputs": [],
   "source": [
    "def trace_path(cell_details, dest):\n",
    "    print(\"The Path is:\")\n",
    "    path = []\n",
    "    row, col = dest\n",
    "\n",
    "    while not (cell_details[row][col].parent_i == row and cell_details[row][col].parent_j == col):\n",
    "        path.append((row, col))\n",
    "        temp_row = cell_details[row][col].parent_i\n",
    "        temp_col = cell_details[row][col].parent_j\n",
    "        row, col = temp_row, temp_col\n",
    "\n",
    "    path.append((row, col))\n",
    "    path.reverse()\n",
    "\n",
    "    for cell in path:\n",
    "        print(\"->\", cell, end=\" \")\n",
    "    print()"
   ]
  },
  {
   "cell_type": "code",
   "execution_count": 6,
   "id": "c39ef880-e695-4f13-8c5c-7a7631cc639b",
   "metadata": {},
   "outputs": [],
   "source": [
    "# A* Search Algorithm\n",
    "def a_star_search(grid, src, dest):\n",
    "    # Check if source and destination are valid and unblocked\n",
    "    if not is_valid(src[0], src[1]) or not is_valid(dest[0], dest[1]) or \\\n",
    "       not is_unblocked(grid, src[0], src[1]) or not is_unblocked(grid, dest[0], dest[1]):\n",
    "        print(\"Invalid source or destination\")\n",
    "        return\n",
    "\n",
    "    if is_destination(src[0], src[1], dest):\n",
    "        print(\"Source is already the destination\")\n",
    "        return\n",
    "\n",
    "    # Initialize visited cells and cell details\n",
    "    closed_list = [[False for _ in range(COL)] for _ in range(ROW)]\n",
    "    cell_details = [[Cell() for _ in range(COL)] for _ in range(ROW)]\n",
    "\n",
    "    # Initialize source cell\n",
    "    i, j = src\n",
    "    cell_details[i][j].f = 0\n",
    "    cell_details[i][j].g = 0\n",
    "    cell_details[i][j].h = 0\n",
    "    cell_details[i][j].parent_i = i\n",
    "    cell_details[i][j].parent_j = j\n",
    "\n",
    "    # Open list (priority queue) to explore cells\n",
    "    open_list = []\n",
    "    heapq.heappush(open_list, (0.0, i, j))\n",
    "\n",
    "    # Main algorithm loop\n",
    "    while open_list:\n",
    "        _, i, j = heapq.heappop(open_list)\n",
    "        closed_list[i][j] = True\n",
    "\n",
    "        # Explore all 8 possible directions\n",
    "        for dir in [(0, 1), (0, -1), (1, 0), (-1, 0), (1, 1), (1, -1), (-1, 1), (-1, -1)]:\n",
    "            new_i, new_j = i + dir[0], j + dir[1]\n",
    "\n",
    "            # Check if the cell is valid, unblocked, and not visited\n",
    "            if is_valid(new_i, new_j) and is_unblocked(grid, new_i, new_j) and not closed_list[new_i][new_j]:\n",
    "                if is_destination(new_i, new_j, dest):\n",
    "                    # Destination found\n",
    "                    cell_details[new_i][new_j].parent_i = i\n",
    "                    cell_details[new_i][new_j].parent_j = j\n",
    "                    print(\"Destination found!\")\n",
    "                    trace_path(cell_details, dest)\n",
    "                    return\n",
    "\n",
    "                # Calculate the g, h, and f values\n",
    "                g_new = cell_details[i][j].g + 1.0\n",
    "                h_new = calculate_h_value(new_i, new_j, dest)\n",
    "                f_new = g_new + h_new\n",
    "\n",
    "                # Update the cell if a better path is found\n",
    "                if cell_details[new_i][new_j].f > f_new:\n",
    "                    heapq.heappush(open_list, (f_new, new_i, new_j))\n",
    "                    cell_details[new_i][new_j].f = f_new\n",
    "                    cell_details[new_i][new_j].g = g_new\n",
    "                    cell_details[new_i][new_j].h = h_new\n",
    "                    cell_details[new_i][new_j].parent_i = i\n",
    "                    cell_details[new_i][new_j].parent_j = j\n",
    "\n",
    "    print(\"No path found\")\n"
   ]
  },
  {
   "cell_type": "code",
   "execution_count": 7,
   "id": "b9f6e94f-0dd1-432f-970a-9686617416fd",
   "metadata": {},
   "outputs": [
    {
     "name": "stdout",
     "output_type": "stream",
     "text": [
      "Destination found!\n",
      "The Path is:\n",
      "-> (8, 0) -> (7, 0) -> (6, 0) -> (5, 0) -> (4, 1) -> (3, 2) -> (2, 1) -> (1, 2) -> (0, 1) -> (0, 0) \n"
     ]
    }
   ],
   "source": [
    "# Driver Code\n",
    "def main():\n",
    "    # Define the grid\n",
    "    grid = [\n",
    "        [1, 1, 1, 1, 1, 1, 0, 1, 1, 1],\n",
    "        [0, 0, 1, 0, 1, 1, 1, 0, 1, 1],\n",
    "        [1, 1, 1, 0, 1, 1, 0, 1, 0, 1],\n",
    "        [0, 0, 1, 0, 1, 0, 0, 0, 0, 1],\n",
    "        [1, 1, 1, 0, 1, 1, 1, 0, 1, 0],\n",
    "        [1, 0, 1, 1, 1, 1, 0, 1, 0, 0],\n",
    "        [1, 0, 0, 0, 0, 1, 0, 0, 0, 1],\n",
    "        [1, 0, 1, 1, 1, 1, 0, 1, 1, 1],\n",
    "        [1, 1, 1, 0, 0, 0, 1, 0, 0, 1]\n",
    "    ]\n",
    "\n",
    "    # Define source and destination\n",
    "    src = [8, 0]\n",
    "    dest = [0, 0]\n",
    "\n",
    "    # Run the A* Search\n",
    "    a_star_search(grid, src, dest)\n",
    "\n",
    "\n",
    "if __name__ == \"__main__\":\n",
    "    main()\n"
   ]
  }
 ],
 "metadata": {
  "kernelspec": {
   "display_name": "Python 3 (ipykernel)",
   "language": "python",
   "name": "python3"
  },
  "language_info": {
   "codemirror_mode": {
    "name": "ipython",
    "version": 3
   },
   "file_extension": ".py",
   "mimetype": "text/x-python",
   "name": "python",
   "nbconvert_exporter": "python",
   "pygments_lexer": "ipython3",
   "version": "3.11.9"
  }
 },
 "nbformat": 4,
 "nbformat_minor": 5
}
