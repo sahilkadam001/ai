{
 "cells": [
  {
   "cell_type": "code",
   "execution_count": 1,
   "id": "80140cc3-f14c-46d3-a7b6-496e1f5479f1",
   "metadata": {},
   "outputs": [],
   "source": [
    "# 8. Implement backward chaining algorithm"
   ]
  },
  {
   "cell_type": "code",
   "execution_count": 15,
   "id": "a4d68486-044c-44c6-929d-4bcea6faeb1d",
   "metadata": {},
   "outputs": [],
   "source": [
    "class Backward_chaining:\n",
    "    def __init__(self):\n",
    "        self.rules = {\n",
    "            'rain': ['cloudy'],  # Fixed typo 'coludy' -> 'cloudy'\n",
    "            'cloudy': ['humid'],\n",
    "            'humid': ['hightemp']  # Ensure this aligns with facts\n",
    "        }\n",
    "\n",
    "        self.facts = {'hightemp'}  # Ensure consistency with rules\n",
    "\n",
    "    def backward_chain(self, goal):\n",
    "        if goal in self.facts:\n",
    "            print(f\"Goal {goal} is a Known fact\")\n",
    "            return True\n",
    "\n",
    "        if goal not in self.rules:\n",
    "            print(f\"Goal {goal} has no rules, and it is not a known fact.\")\n",
    "            return False\n",
    "\n",
    "        for condition in self.rules[goal]:\n",
    "            print(f\"Checking if {condition} is true to achieve {goal}.\")\n",
    "            if not self.backward_chain(condition):\n",
    "                print(f\"Failed to Prove {condition}, so {goal} is false.\")\n",
    "                return False\n",
    "            \n",
    "        print(f\"All conditions for {goal} are satisfied.\")\n",
    "        return True\n",
    "\n"
   ]
  },
  {
   "cell_type": "code",
   "execution_count": 16,
   "id": "f9fee371-9e05-41cd-95f9-2fc8e050bfaa",
   "metadata": {},
   "outputs": [
    {
     "name": "stdout",
     "output_type": "stream",
     "text": [
      "Checking if cloudy is true to achieve rain.\n",
      "Checking if humid is true to achieve cloudy.\n",
      "Checking if hightemp is true to achieve humid.\n",
      "Goal hightemp is a Known fact\n",
      "All conditions for humid are satisfied.\n",
      "All conditions for cloudy are satisfied.\n",
      "All conditions for rain are satisfied.\n",
      "The goal rain is true.\n"
     ]
    }
   ],
   "source": [
    "# Example Usage\n",
    "bc = Backward_chaining()\n",
    "\n",
    "goal = \"rain\"\n",
    "result = bc.backward_chain(goal)\n",
    "\n",
    "if result:\n",
    "    print(f\"The goal {goal} is true.\")\n",
    "else:\n",
    "    print(f\"The goal {goal} is false.\")"
   ]
  }
 ],
 "metadata": {
  "kernelspec": {
   "display_name": "Python 3 (ipykernel)",
   "language": "python",
   "name": "python3"
  },
  "language_info": {
   "codemirror_mode": {
    "name": "ipython",
    "version": 3
   },
   "file_extension": ".py",
   "mimetype": "text/x-python",
   "name": "python",
   "nbconvert_exporter": "python",
   "pygments_lexer": "ipython3",
   "version": "3.11.9"
  }
 },
 "nbformat": 4,
 "nbformat_minor": 5
}
