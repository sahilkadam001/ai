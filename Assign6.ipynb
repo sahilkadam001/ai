{
 "cells": [
  {
   "cell_type": "code",
   "execution_count": null,
   "id": "d1298075-2fe1-43f6-b926-3baced716926",
   "metadata": {},
   "outputs": [],
   "source": [
    "# 6. Implement basic search strategies – 8-Queens Problem"
   ]
  },
  {
   "cell_type": "code",
   "execution_count": 19,
   "id": "8f66cf48-b7d7-4303-a5c9-1b735ddd9314",
   "metadata": {},
   "outputs": [
    {
     "name": "stdout",
     "output_type": "stream",
     "text": [
      "[[1, 0, 0, 0, 0, 0, 0, 0], [0, 0, 0, 0, 0, 0, 1, 0], [0, 0, 0, 0, 1, 0, 0, 0], [0, 0, 0, 0, 0, 0, 0, 1], [0, 1, 0, 0, 0, 0, 0, 0], [0, 0, 0, 1, 0, 0, 0, 0], [0, 0, 0, 0, 0, 1, 0, 0], [0, 0, 1, 0, 0, 0, 0, 0]]\n"
     ]
    }
   ],
   "source": [
    "N = 8\n",
    "def solveNQueens(board,col):\n",
    "  if col == N :\n",
    "   print(board )\n",
    "   return True\n",
    "\n",
    "  for i in range(N):\n",
    "    if isSafe(board,i,col):\n",
    "     board[i][col] = 1\n",
    "     if solveNQueens(board,col+1):\n",
    "      return True\n",
    "    board[i][col] = 0\n",
    "  return False\n",
    "\n",
    "def isSafe(board, row, col):\n",
    "  for x in range (col):\n",
    "    if board[row][x] == 1:\n",
    "     return False\n",
    "\n",
    "  for x, y in zip(range(row, -1, -1), range(col, -1, -1)):\n",
    "    if board[x][y] == 1:\n",
    "        return False\n",
    "\n",
    "  for x, y in zip(range(row, N, 1), range(col, -1, -1)):\n",
    "      if board[x][y] == 1:\n",
    "        return False\n",
    "  return True\n",
    "  board = [[0 for x in range(N)] for y in range(N)]\n",
    "\n",
    "board = [[0 for x in range(N)] for y in range(N)]\n",
    "if not solveNQueens(board, 0):\n",
    "    print(\"No solution found\")"
   ]
  }
 ],
 "metadata": {
  "kernelspec": {
   "display_name": "Python 3 (ipykernel)",
   "language": "python",
   "name": "python3"
  },
  "language_info": {
   "codemirror_mode": {
    "name": "ipython",
    "version": 3
   },
   "file_extension": ".py",
   "mimetype": "text/x-python",
   "name": "python",
   "nbconvert_exporter": "python",
   "pygments_lexer": "ipython3",
   "version": "3.11.9"
  }
 },
 "nbformat": 4,
 "nbformat_minor": 5
}
