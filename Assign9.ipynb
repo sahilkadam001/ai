{
 "cells": [
  {
   "cell_type": "code",
   "execution_count": null,
   "id": "0782fa94-06bb-4e3c-a76d-27cc948a1465",
   "metadata": {},
   "outputs": [],
   "source": [
    "# 9. Create a Chabot application for any real-world scenario\n",
    "# pip install -U spacy"
   ]
  },
  {
   "cell_type": "code",
   "execution_count": 2,
   "id": "a50e0417-6620-4a58-bf2e-89a43587b581",
   "metadata": {},
   "outputs": [],
   "source": [
    "import spacy\n",
    "from difflib import get_close_matches\n",
    "import time"
   ]
  },
  {
   "cell_type": "code",
   "execution_count": 4,
   "id": "c329ef8f-13b0-416b-a755-55ed0f0e519a",
   "metadata": {},
   "outputs": [],
   "source": [
    "# Load spaCy language model\n",
    "nlp = spacy.load(\"en_core_web_sm\")"
   ]
  },
  {
   "cell_type": "code",
   "execution_count": 5,
   "id": "d400afa4-6028-4c8f-9248-6efca407b445",
   "metadata": {},
   "outputs": [],
   "source": [
    "intents = {\n",
    "    \"greeting\": [\"hello\", \"hi\", \"hey\"],\n",
    "    \"browse_products\": [\"show me products\", \"browse items\", \"what do you have\", \"list products\"],\n",
    "    \"order_status\": [\"track my order\", \"order status\", \"where is my order\", \"delivery status\"],\n",
    "    \"return_policy\": [\"return policy\", \"can I return\", \"refund\", \"exchange items\"],\n",
    "    \"offers\": [\"current offers\", \"discounts\", \"sales\", \"deals\"],\n",
    "    \"payment_methods\": [\"payment methods\", \"how to pay\", \"accepted payments\", \"payment options\"],\n",
    "    \"farewell\": [\"bye\", \"goodbye\", \"exit\", \"thanks\"],\n",
    "}"
   ]
  },
  {
   "cell_type": "code",
   "execution_count": 6,
   "id": "cee0cdc5-3079-41f8-9d15-8cbcf140bfa9",
   "metadata": {},
   "outputs": [],
   "source": [
    "responses = {\n",
    "    \"greeting\": \"Hello! Welcome to ShopSmartBot. How can I assist you today?\",\n",
    "    \"browse_products\": \"We have a wide range of categories including Electronics, Clothing, Home Appliances, and more. What are you looking for?\",\n",
    "    \"order_status\": \"To track your order, please provide your order ID or log in to your account.\",\n",
    "    \"return_policy\": \"You can return or exchange items within 30 days of purchase. Please visit our Returns page for more details.\",\n",
    "    \"offers\": \"We have great deals on Electronics and up to 50% off on Fashion. Check out the Offers section!\",\n",
    "    \"payment_methods\": \"We accept Credit/Debit Cards, UPI, Net Banking, and Cash on Delivery. Let us know how you'd like to pay.\",\n",
    "    \"farewell\": \"Thank you for visiting ShopSmartBot! Happy shopping, and see you again soon!\",\n",
    "}"
   ]
  }
 ],
 "metadata": {
  "kernelspec": {
   "display_name": "Python 3 (ipykernel)",
   "language": "python",
   "name": "python3"
  },
  "language_info": {
   "codemirror_mode": {
    "name": "ipython",
    "version": 3
   },
   "file_extension": ".py",
   "mimetype": "text/x-python",
   "name": "python",
   "nbconvert_exporter": "python",
   "pygments_lexer": "ipython3",
   "version": "3.11.9"
  }
 },
 "nbformat": 4,
 "nbformat_minor": 5
}
