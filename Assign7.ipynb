{
 "cells": [
  {
   "cell_type": "code",
   "execution_count": null,
   "id": "2d3fbc99-6a2f-49a5-9ac1-e7c47e8d54b9",
   "metadata": {},
   "outputs": [],
   "source": [
    "# 7. Implement Forward Chaining Algorithm"
   ]
  },
  {
   "cell_type": "code",
   "execution_count": 3,
   "id": "d2e88ee3-952d-4d27-8cf4-fe292333592d",
   "metadata": {},
   "outputs": [],
   "source": [
    "facts = ['A', 'B']"
   ]
  },
  {
   "cell_type": "code",
   "execution_count": 4,
   "id": "434ec956-4e88-4127-841a-32f15e8358f3",
   "metadata": {},
   "outputs": [],
   "source": [
    "rules = [\n",
    "    (['A', 'B'], 'C'),\n",
    "    (['C'],'D'),\n",
    "    (['D'], 'E')\n",
    "]"
   ]
  },
  {
   "cell_type": "code",
   "execution_count": 5,
   "id": "9b3b65d6-bb6d-4d18-a3c9-fb6c60f97a28",
   "metadata": {},
   "outputs": [],
   "source": [
    "def forward_chaining(facts, rules):\n",
    "    inferred = set(facts)  # Start with initial facts\n",
    "    new_facts_added = True  # Flag to track changes\n",
    "\n",
    "    while new_facts_added:\n",
    "        new_facts_added = False  # Reset flag for this iteration\n",
    "        for rule in rules:\n",
    "            conditions, conclusion = rule\n",
    "\n",
    "            # Check if all conditions are in the inferred set\n",
    "            all_conditions_met = all(condition in inferred for condition in conditions)\n",
    "\n",
    "            if all_conditions_met and conclusion not in inferred:\n",
    "                inferred.add(conclusion)  # Add the new fact\n",
    "                print(f\"New Fact Inferred: {conclusion}\")\n",
    "                new_facts_added = True  # Mark that a new fact was added\n",
    "\n",
    "    return inferred"
   ]
  },
  {
   "cell_type": "code",
   "execution_count": 6,
   "id": "439dc080-db6c-4d72-98c8-98fbead1f469",
   "metadata": {},
   "outputs": [
    {
     "name": "stdout",
     "output_type": "stream",
     "text": [
      "Initial facts: ['A', 'B']\n",
      "New Fact Inferred: C\n",
      "New Fact Inferred: D\n",
      "New Fact Inferred: E\n",
      "Final inferred facts: {'B', 'E', 'D', 'A', 'C'}\n"
     ]
    }
   ],
   "source": [
    "print(\"Initial facts:\", facts)\n",
    "inferred_facts = forward_chaining(facts, rules)\n",
    "print(\"Final inferred facts:\", inferred_facts)"
   ]
  }
 ],
 "metadata": {
  "kernelspec": {
   "display_name": "Python 3 (ipykernel)",
   "language": "python",
   "name": "python3"
  },
  "language_info": {
   "codemirror_mode": {
    "name": "ipython",
    "version": 3
   },
   "file_extension": ".py",
   "mimetype": "text/x-python",
   "name": "python",
   "nbconvert_exporter": "python",
   "pygments_lexer": "ipython3",
   "version": "3.11.9"
  }
 },
 "nbformat": 4,
 "nbformat_minor": 5
}
