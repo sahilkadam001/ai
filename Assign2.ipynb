{
 "cells": [
  {
   "cell_type": "code",
   "execution_count": null,
   "id": "0da7bcc1-29fc-4f33-8867-ed8e09a2a001",
   "metadata": {},
   "outputs": [],
   "source": [
    "# Implement constraint satisfaction problem."
   ]
  },
  {
   "cell_type": "code",
   "execution_count": 3,
   "id": "d7c18e46-eca8-404f-ad85-1c18369e338a",
   "metadata": {},
   "outputs": [],
   "source": [
    "def is_valid_state (state):\n",
    "    missionaries_left , cannibals_left, _ = state\n",
    "    missionaries_right = 3-missionaries_left\n",
    "    cannibals_right = 3-cannibals_left\n",
    "\n",
    "    if (missionaries_left > 0 and missionaries_left < cannibals_left) or \\\n",
    "        (missionaries_right > 0 and missionaries_right < cannibals_right):\n",
    "        return Flase\n",
    "    return True"
   ]
  },
  {
   "cell_type": "code",
   "execution_count": 6,
   "id": "145d59db-1f70-4f09-a165-4a3a1e4f7fa1",
   "metadata": {},
   "outputs": [],
   "source": [
    "def get_user_input (state):\n",
    "    print(\"\\nCurrent state:\")\n",
    "    print(f\"Missionaries on Left: {state[0]} , Cannibals on Left: {state[1]}, Boat on {'Left' if state[2]== 1 else 'Right'} Side\")\n",
    "\n",
    "    try:\n",
    "        missionaries = int(input(\"Enter number of missionaries to move (0-2): \"))\n",
    "        cannibals = int(input(\"Enter number of cannibals to move (0-2): \"))\n",
    "    except ValError:\n",
    "        print(\"Invalid input. Please enter integers only.\")\n",
    "        return None\n",
    "    if 0 <= missionaries <= 2 and 0<= cannibals <= 2 and 0< (missionaries + cannibals) <=2:\n",
    "            return(missionaries,cannibals)\n",
    "    else:\n",
    "        print(\"Invalid Move Try Again\")\n",
    "        return None"
   ]
  },
  {
   "cell_type": "code",
   "execution_count": 17,
   "id": "d3d7775f-8b8c-4a3c-9cec-811d063f6c46",
   "metadata": {},
   "outputs": [],
   "source": [
    "def play_missionaries_and_cannibals():\n",
    "    state = (3, 3, 1)  # Starting state: 3 missionaries, 3 cannibals, boat on the left\n",
    "    goal = (0, 0, 0)  # Goal state: all on the right, boat on the right\n",
    "\n",
    "    visited = set([state])  # Track visited states to avoid repetition\n",
    "\n",
    "    while state != goal:\n",
    "        print(\"Visited States: \", visited)\n",
    "        move = None\n",
    "\n",
    "        while move is None:\n",
    "            move = get_user_input(state)  # Get user input for missionaries and cannibals to move\n",
    "\n",
    "        missionaries, cannibals = move\n",
    "        # Assign the boat's direction based on its current side\n",
    "        boat_direction = -1 if state[2] == 1 else 1\n",
    "\n",
    "        # Calculate the new state\n",
    "        new_state = (\n",
    "            state[0] + boat_direction * missionaries,  # Update missionaries on the left\n",
    "            state[1] + boat_direction * cannibals,     # Update cannibals on the left\n",
    "            1 - state[2]                               # Move boat to the opposite side\n",
    "        )\n",
    "\n",
    "        # Validate the new state\n",
    "        if (\n",
    "            0 <= new_state[0] <= 3 and 0 <= new_state[1] <= 3 and\n",
    "            is_valid_state(new_state) and new_state not in visited\n",
    "        ):\n",
    "            state = new_state\n",
    "            visited.add(state)  # Mark the new state as visited\n",
    "\n",
    "            if state == goal:\n",
    "                print(\"\\nCongratulations! You've successfully moved all missionaries and cannibals to the other side!\")\n",
    "                break\n",
    "        else:\n",
    "            print(\"Invalid move. The state is either not allowed, already visited, or violates the problem constraints. Try again.\")\n",
    "\n",
    "    if state != goal:\n",
    "        print(\"\\nGame Over. Better luck next time!\")\n"
   ]
  }
 ],
 "metadata": {
  "kernelspec": {
   "display_name": "Python 3 (ipykernel)",
   "language": "python",
   "name": "python3"
  },
  "language_info": {
   "codemirror_mode": {
    "name": "ipython",
    "version": 3
   },
   "file_extension": ".py",
   "mimetype": "text/x-python",
   "name": "python",
   "nbconvert_exporter": "python",
   "pygments_lexer": "ipython3",
   "version": "3.11.9"
  }
 },
 "nbformat": 4,
 "nbformat_minor": 5
}
