{
 "cells": [
  {
   "cell_type": "code",
   "execution_count": null,
   "id": "f61f3ce5-4a72-43b9-b952-e67e3ddeab59",
   "metadata": {},
   "outputs": [],
   "source": [
    "# Implement DFS, BFS for 8-puzzle problem"
   ]
  },
  {
   "cell_type": "code",
   "execution_count": 1,
   "id": "c68fd7a5-8c70-4390-8c08-59297a9d3c99",
   "metadata": {},
   "outputs": [],
   "source": [
    "def bfs (src, target):\n",
    "    queue = []\n",
    "    exp = []\n",
    "    queue.append(src)\n",
    "\n",
    "    while len(queue) > 0:\n",
    "        source = queue.pop(0)\n",
    "        exp.append(source)\n",
    "        print_puzzel(source)\n",
    "\n",
    "        if target == source:\n",
    "            print()\n",
    "            print(\"Success\")\n",
    "            return\n",
    "\n",
    "        pos = find_pos(source, exp)\n",
    "\n",
    "        for move in pos:\n",
    "            if move not in exp and move not in queue:\n",
    "                queue.append(move)"
   ]
  },
  {
   "cell_type": "code",
   "execution_count": 4,
   "id": "0f9e3286-908b-4431-88b9-f07312846041",
   "metadata": {},
   "outputs": [],
   "source": [
    "def find_pos (state , visited):\n",
    "    b = state.index(0)\n",
    "    directions = []\n",
    "\n",
    "    if b not in [0,1,2]:\n",
    "        directions.append(\"up\")\n",
    "    if b not in [6,7,8]:\n",
    "        directions.append(\"down\")\n",
    "    if b not in [0,3,6]:\n",
    "        directions.append(\"left\")\n",
    "    if b not in [2,5,8]:\n",
    "        directions.append(\"right\")  \n",
    "\n",
    "    moves = []\n",
    "    for i in directions:\n",
    "        moves.append(gen(state, i , b))\n",
    "    return [move for move in moves if move not in visited]  "
   ]
  },
  {
   "cell_type": "code",
   "execution_count": 5,
   "id": "ebb6bfa1-b7c9-4ab3-b659-9367439b0970",
   "metadata": {},
   "outputs": [],
   "source": [
    "def gen (state,i,b):\n",
    "\n",
    "    temp = state.copy()\n",
    "\n",
    "    if i == \"down\":\n",
    "        temp[b+3], temp[b] = temp[b], temp[b+3]\n",
    "    if i ==\"up\":\n",
    "        temp[b-3], temp[b] = temp[b], temp[b-3]\n",
    "    if i == \"left\":\n",
    "        temp[b-1], temp[b] = temp[b], temp[b-1]\n",
    "    if i == \"right\" :\n",
    "        temp[b+1] , temp[b] = temp[b], temp[b+1]\n",
    "\n",
    "    return temp"
   ]
  },
  {
   "cell_type": "code",
   "execution_count": 10,
   "id": "11b44e56-807c-446f-989c-6dfb1b7bdc94",
   "metadata": {},
   "outputs": [],
   "source": [
    "import numpy as np\n",
    "\n",
    "def print_puzzel (state):\n",
    "    print(np.array(state).reshape(3,3))\n",
    "    print()"
   ]
  },
  {
   "cell_type": "code",
   "execution_count": 11,
   "id": "c90066a7-be0d-4494-bbab-bd5d439ddf63",
   "metadata": {},
   "outputs": [
    {
     "name": "stdout",
     "output_type": "stream",
     "text": [
      "Initial state: \n",
      "[[1 2 3]\n",
      " [4 5 6]\n",
      " [0 7 8]]\n",
      "\n",
      "\n",
      "Goal state: \n",
      "[[1 2 3]\n",
      " [4 5 6]\n",
      " [7 8 0]]\n",
      "\n",
      "\n",
      "BFS solution:\n",
      "[[1 2 3]\n",
      " [4 5 6]\n",
      " [0 7 8]]\n",
      "\n",
      "[[1 2 3]\n",
      " [0 5 6]\n",
      " [4 7 8]]\n",
      "\n",
      "[[1 2 3]\n",
      " [4 5 6]\n",
      " [7 0 8]]\n",
      "\n",
      "[[0 2 3]\n",
      " [1 5 6]\n",
      " [4 7 8]]\n",
      "\n",
      "[[1 2 3]\n",
      " [5 0 6]\n",
      " [4 7 8]]\n",
      "\n",
      "[[1 2 3]\n",
      " [4 0 6]\n",
      " [7 5 8]]\n",
      "\n",
      "[[1 2 3]\n",
      " [4 5 6]\n",
      " [7 8 0]]\n",
      "\n",
      "\n",
      "Success\n"
     ]
    }
   ],
   "source": [
    "src = [1, 2, 3, 4, 5, 6, 0, 7, 8]\n",
    "target = [1, 2, 3, 4, 5, 6, 7, 8, 0]\n",
    "\n",
    "print(\"Initial state: \")\n",
    "print_puzzel(src)       #initial state\n",
    "print()\n",
    "\n",
    "print(\"Goal state: \")\n",
    "print_puzzel(target)    #goal state\n",
    "print()\n",
    "\n",
    "print(\"BFS solution:\")\n",
    "bfs(src, target)"
   ]
  }
 ],
 "metadata": {
  "kernelspec": {
   "display_name": "Python 3 (ipykernel)",
   "language": "python",
   "name": "python3"
  },
  "language_info": {
   "codemirror_mode": {
    "name": "ipython",
    "version": 3
   },
   "file_extension": ".py",
   "mimetype": "text/x-python",
   "name": "python",
   "nbconvert_exporter": "python",
   "pygments_lexer": "ipython3",
   "version": "3.11.9"
  }
 },
 "nbformat": 4,
 "nbformat_minor": 5
}
